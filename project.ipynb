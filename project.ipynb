{
 "cells": [
  {
   "cell_type": "markdown",
   "metadata": {},
   "source": [
    "## Kelompok"
   ]
  },
  {
   "cell_type": "markdown",
   "metadata": {},
   "source": [
    "- Venansius Mario\n",
    "- Jerriel Rhemaldy\n",
    "- Christian Nathanael\n",
    "- Yoga Brahmantara\n",
    "- Ricky Andrean"
   ]
  },
  {
   "cell_type": "markdown",
   "metadata": {},
   "source": [
    "- Dataset yang digunakan adalah Rock, Paper, Scissor"
   ]
  },
  {
   "cell_type": "code",
   "execution_count": 2,
   "metadata": {},
   "outputs": [],
   "source": [
    "import os\n",
    "\n",
    "base_dir = 'dataset/rps-train/rps'\n",
    "\n",
    "rock_dir = os.path.join(base_dir, 'rock')\n",
    "paper_dir = os.path.join(base_dir, 'paper')\n",
    "scissors_dir = os.path.join(base_dir, 'scissors')"
   ]
  },
  {
   "cell_type": "code",
   "execution_count": 3,
   "metadata": {},
   "outputs": [
    {
     "name": "stdout",
     "output_type": "stream",
     "text": [
      "dataset/rps-train/rps\\rock\n"
     ]
    }
   ],
   "source": [
    "print(rock_dir)"
   ]
  },
  {
   "cell_type": "code",
   "execution_count": 4,
   "metadata": {},
   "outputs": [],
   "source": [
    "import tensorflow as tf\n",
    "\n",
    "model = tf.keras.models.Sequential([\n",
    "    tf.keras.layers.Conv2D(64, (3,3), activation='relu', input_shape=(150, 150, 3)),\n",
    "    tf.keras.layers.MaxPooling2D(2, 2),\n",
    "    \n",
    "    tf.keras.layers.Conv2D(64, (3,3), activation='relu'),\n",
    "    tf.keras.layers.MaxPooling2D(2,2),\n",
    "    \n",
    "    tf.keras.layers.Conv2D(128, (3,3), activation='relu'),\n",
    "    tf.keras.layers.MaxPooling2D(2,2),\n",
    "    \n",
    "    tf.keras.layers.Conv2D(128, (3,3), activation='relu'),\n",
    "    tf.keras.layers.MaxPooling2D(2,2),\n",
    "    \n",
    "    tf.keras.layers.Flatten(),\n",
    "    \n",
    "    tf.keras.layers.Dense(512, activation='relu'),\n",
    "    tf.keras.layers.Dense(3, activation='softmax')\n",
    "])\n"
   ]
  },
  {
   "cell_type": "code",
   "execution_count": 5,
   "metadata": {},
   "outputs": [
    {
     "name": "stdout",
     "output_type": "stream",
     "text": [
      "Found 2520 images belonging to 3 classes.\n",
      "Found 372 images belonging to 3 classes.\n"
     ]
    }
   ],
   "source": [
    "from keras_preprocessing.image import ImageDataGenerator\n",
    "TRAINING_DIR = \"dataset/rps-train/rps\"\n",
    "training_datagen = ImageDataGenerator(rescale = 1./255)\n",
    "\n",
    "VALIDATION_DIR = \"dataset/rps-test/rps-test-set\"\n",
    "validation_datagen = ImageDataGenerator(rescale = 1./255)\n",
    "\n",
    "train_generator = training_datagen.flow_from_directory(\n",
    "\tTRAINING_DIR,\n",
    "\ttarget_size=(150,150),\n",
    "\tclass_mode='categorical',\n",
    ")\n",
    "\n",
    "validation_generator = validation_datagen.flow_from_directory(\n",
    "\tVALIDATION_DIR,\n",
    "\ttarget_size=(150,150),\n",
    "\tclass_mode='categorical',\n",
    ")"
   ]
  },
  {
   "cell_type": "code",
   "execution_count": 6,
   "metadata": {},
   "outputs": [],
   "source": [
    "model.compile(loss = 'categorical_crossentropy', optimizer='rmsprop', metrics=['accuracy'])"
   ]
  },
  {
   "cell_type": "code",
   "execution_count": 7,
   "metadata": {},
   "outputs": [
    {
     "name": "stdout",
     "output_type": "stream",
     "text": [
      "Epoch 1/25\n",
      "20/20 [==============================] - 48s 2s/step - loss: 3.1090 - accuracy: 0.3453 - val_loss: 0.9871 - val_accuracy: 0.6042\n",
      "Epoch 2/25\n",
      "20/20 [==============================] - 33s 2s/step - loss: 0.8518 - accuracy: 0.6953 - val_loss: 1.0044 - val_accuracy: 0.6146\n",
      "Epoch 3/25\n",
      "20/20 [==============================] - 34s 2s/step - loss: 0.3871 - accuracy: 0.8516 - val_loss: 0.7368 - val_accuracy: 0.7396\n",
      "Epoch 4/25\n",
      "20/20 [==============================] - 36s 2s/step - loss: 0.1489 - accuracy: 0.9589 - val_loss: 0.8963 - val_accuracy: 0.7917\n",
      "Epoch 5/25\n",
      "20/20 [==============================] - 36s 2s/step - loss: 0.1101 - accuracy: 0.9656 - val_loss: 3.9747 - val_accuracy: 0.3333\n",
      "Epoch 6/25\n",
      "20/20 [==============================] - 35s 2s/step - loss: 0.2297 - accuracy: 0.9531 - val_loss: 0.8203 - val_accuracy: 0.7500\n",
      "Epoch 7/25\n",
      "20/20 [==============================] - 37s 2s/step - loss: 0.0476 - accuracy: 0.9828 - val_loss: 0.6360 - val_accuracy: 0.9167\n",
      "Epoch 8/25\n",
      "20/20 [==============================] - 36s 2s/step - loss: 0.0226 - accuracy: 0.9953 - val_loss: 0.5317 - val_accuracy: 0.9062\n",
      "Epoch 9/25\n",
      "20/20 [==============================] - 32s 2s/step - loss: 0.0294 - accuracy: 0.9906 - val_loss: 1.0947 - val_accuracy: 0.7500\n",
      "Epoch 10/25\n",
      "20/20 [==============================] - 33s 2s/step - loss: 0.0019 - accuracy: 0.9984 - val_loss: 0.9165 - val_accuracy: 0.8021\n",
      "Epoch 11/25\n",
      "20/20 [==============================] - 32s 2s/step - loss: 0.0132 - accuracy: 0.9922 - val_loss: 1.7769 - val_accuracy: 0.8438\n",
      "Epoch 12/25\n",
      "20/20 [==============================] - 36s 2s/step - loss: 0.0281 - accuracy: 0.9922 - val_loss: 1.8037 - val_accuracy: 0.7292\n",
      "Epoch 13/25\n",
      "20/20 [==============================] - 37s 2s/step - loss: 2.6652e-04 - accuracy: 1.0000 - val_loss: 2.1084 - val_accuracy: 0.7083\n",
      "Epoch 14/25\n",
      "20/20 [==============================] - 38s 2s/step - loss: 2.2274e-05 - accuracy: 1.0000 - val_loss: 1.7550 - val_accuracy: 0.7812\n",
      "Epoch 15/25\n",
      "20/20 [==============================] - 34s 2s/step - loss: 0.1294 - accuracy: 0.9842 - val_loss: 1.6759 - val_accuracy: 0.8021\n",
      "Epoch 16/25\n",
      "20/20 [==============================] - 36s 2s/step - loss: 0.0013 - accuracy: 1.0000 - val_loss: 2.1353 - val_accuracy: 0.8021\n",
      "Epoch 17/25\n",
      "20/20 [==============================] - 40s 2s/step - loss: 1.5846e-04 - accuracy: 1.0000 - val_loss: 1.5179 - val_accuracy: 0.7292\n",
      "Epoch 18/25\n",
      "20/20 [==============================] - 37s 2s/step - loss: 2.3452e-04 - accuracy: 1.0000 - val_loss: 2.0030 - val_accuracy: 0.7396\n",
      "Epoch 19/25\n",
      "20/20 [==============================] - 34s 2s/step - loss: 3.8804e-04 - accuracy: 1.0000 - val_loss: 2.7562 - val_accuracy: 0.8125\n",
      "Epoch 20/25\n",
      "20/20 [==============================] - 35s 2s/step - loss: 1.8890e-04 - accuracy: 1.0000 - val_loss: 5.1234 - val_accuracy: 0.7500\n",
      "Epoch 21/25\n",
      "20/20 [==============================] - 34s 2s/step - loss: 0.0424 - accuracy: 0.9921 - val_loss: 1.8098 - val_accuracy: 0.7604\n",
      "Epoch 22/25\n",
      "20/20 [==============================] - 34s 2s/step - loss: 0.0040 - accuracy: 0.9984 - val_loss: 2.5815 - val_accuracy: 0.7708\n",
      "Epoch 23/25\n",
      "20/20 [==============================] - 34s 2s/step - loss: 2.1807e-05 - accuracy: 1.0000 - val_loss: 1.6115 - val_accuracy: 0.7917\n",
      "Epoch 24/25\n",
      "20/20 [==============================] - 36s 2s/step - loss: 2.3465e-06 - accuracy: 1.0000 - val_loss: 1.3190 - val_accuracy: 0.8438\n",
      "Epoch 25/25\n",
      "20/20 [==============================] - 35s 2s/step - loss: 2.2525e-06 - accuracy: 1.0000 - val_loss: 1.9144 - val_accuracy: 0.7708\n"
     ]
    },
    {
     "data": {
      "text/plain": [
       "<keras.callbacks.History at 0x1f2f8442130>"
      ]
     },
     "execution_count": 7,
     "metadata": {},
     "output_type": "execute_result"
    }
   ],
   "source": [
    "model.fit(train_generator, epochs=25, steps_per_epoch=20, validation_data = validation_generator, verbose = 1, validation_steps=3)"
   ]
  },
  {
   "cell_type": "code",
   "execution_count": null,
   "metadata": {},
   "outputs": [],
   "source": []
  }
 ],
 "metadata": {
  "interpreter": {
   "hash": "b09ec625f77bf4fd762565a912b97636504ad6ec901eb2d0f4cf5a7de23e1ee5"
  },
  "kernelspec": {
   "display_name": "Python 3.8.8 ('base')",
   "language": "python",
   "name": "python3"
  },
  "language_info": {
   "codemirror_mode": {
    "name": "ipython",
    "version": 3
   },
   "file_extension": ".py",
   "mimetype": "text/x-python",
   "name": "python",
   "nbconvert_exporter": "python",
   "pygments_lexer": "ipython3",
   "version": "3.8.8"
  },
  "orig_nbformat": 4
 },
 "nbformat": 4,
 "nbformat_minor": 2
}
